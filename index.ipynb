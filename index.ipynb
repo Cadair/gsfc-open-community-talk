{
 "cells": [
  {
   "cell_type": "markdown",
   "metadata": {
    "slideshow": {
     "slide_type": "slide"
    }
   },
   "source": [
    "# Building an Open Community around Software in Solar Physics\n",
    "\n",
    "\n",
    "## Stuart Mumford\n",
    "\n",
    "\n",
    "<h3 style=\"text-align: center;\"> The University of Sheffield </h3>\n",
    "\n",
    "<img style='float: left; width: 30%; margin-top: 90px; height: 25%;' src='images/TUOS_Logo_CMYK_Keyline.svg'/> \n",
    "<img style='float: right; width: 30%; margin-top: 90px; height: 25%;' src='images/sunpy_logo_long_800x380.png'/> "
   ]
  },
  {
   "cell_type": "markdown",
   "metadata": {
    "slideshow": {
     "slide_type": "slide"
    }
   },
   "source": [
    "# How I Got Here!\n",
    "\n",
    "<div class='left'>\n",
    "    <h3> My PhD: </h3>\n",
    "    <div style=\"position: relative; width: 100%; height: 0; padding-bottom: 56.25%;\">\n",
    "        <iframe src=\"https://www.youtube.com/embed/9zc6YTp2db4?rel=0&amp;controls=0&amp;showinfo=0\" frameborder=\"0\" style=\"    position: absolute; top: 0; left: 0; width: 100%; height: 100%;\">\n",
    "        </iframe>\n",
    "    </div>\n",
    "</div>\n",
    "\n",
    "<div class='right fragment'>\n",
    "\n",
    "<h3> What I actually did: </h3>\n",
    "\n",
    "<h4 style=\"text-align: center;\"> A lot of SunPy </h4>\n",
    "\n",
    "<img src=\"images/sunpy-commits.png\">\n",
    "\n",
    "</div>"
   ]
  },
  {
   "cell_type": "markdown",
   "metadata": {
    "slideshow": {
     "slide_type": "notes"
    }
   },
   "source": [
    "# PhD\n",
    "\n",
    "* I did a PhD in Numerical Solar Physics at the University of Sheffield\n",
    "* I wrote a lot of code to avoid having to use an IDL script with comments in Russian.\n",
    "\n",
    "\n",
    "# SunPy\n",
    "\n",
    "* Found out about the SunPy project on the tram into work one day\n",
    "* Have been involved since around the middle of 2012\n",
    "* Lead developer:\n",
    "    * Built relationships with Astropy\n",
    "    * Expanded community\n",
    "    * Wrote a decent amount of code!"
   ]
  },
  {
   "cell_type": "markdown",
   "metadata": {
    "slideshow": {
     "slide_type": "slide"
    }
   },
   "source": [
    "# Software in Science\n",
    "\n",
    "## It's quite hard to avoid it!\n",
    "\n",
    "\n",
    "<div class='fragment'>\n",
    "\n",
    "<h3> Some issues with software and science in general: </h3>\n",
    "<ul class='list'>\n",
    "    <li class='fragment'> Software best practices are not taught at undergraduate / graduate level. </li>\n",
    "    <li class='fragment'> It can be challenging to be rewarded for contributing to software. </li>\n",
    "    <li class='fragment'> <b> Lot's </b>of people writing the same code. </li>\n",
    "    <li class='fragment'> Software is not often shared with publications. </li>\n",
    "</ul>\n",
    "</div>"
   ]
  },
  {
   "cell_type": "markdown",
   "metadata": {
    "slideshow": {
     "slide_type": "slide"
    }
   },
   "source": [
    "# Open Community Driven Software\n",
    "\n",
    "<div class='left'>\n",
    "<h2> Objectives: </h2>\n",
    "<ul class='list'>\n",
    "    <li> Build the core tools together. </li>\n",
    "    <li class='fragment'> Save everyone time! </li>\n",
    "    <li class='fragment'> Make the code citeable. </li>\n",
    "    <li class='fragment'> Get subject matter experts and software developers working together. </li>\n",
    "</ul>\n",
    "</div>\n",
    "\n",
    "<div class='right fragment'>\n",
    "<h2> Questions: </h2>\n",
    "<ul class='list'>\n",
    "    <li> How to collaborate effiectively? </li>\n",
    "    <li class='fragment'> How to keep the standard high when you have all levels of knowledge working on the code? </li>\n",
    "    <li class='fragment'> How to encourage people to get involved? </li>\n",
    "    <li class='fragment'> How to make it easy to use? </li>\n",
    "</ul>\n",
    "</div>"
   ]
  },
  {
   "cell_type": "markdown",
   "metadata": {
    "slideshow": {
     "slide_type": "slide"
    }
   },
   "source": [
    "# Images and Equations\n",
    "\n",
    "<div class='left'>\n",
    "\n",
    "<img src=\"images/sunpy-commits.png\">\n",
    "\n",
    "</div>\n",
    "\n",
    "<div class='right fragment'>\n",
    "\n",
    "$    \\vec{V}(x,y,z) = \\vec{F}(x,y,z) \\ e^{-\\left(\\frac{z^2}{\\Delta z^2} + \\frac{x^2}{\\Delta x^2} + \\frac{y^2}{\\Delta y^2}\\right)} \\sin \\left(2\\pi \\frac{t}{P}\\right),$\n",
    "\n",
    "\n",
    "</div>"
   ]
  },
  {
   "cell_type": "markdown",
   "metadata": {
    "slideshow": {
     "slide_type": "slide"
    }
   },
   "source": [
    "# SunPy"
   ]
  },
  {
   "cell_type": "code",
   "execution_count": 6,
   "metadata": {
    "slideshow": {
     "slide_type": "skip"
    }
   },
   "outputs": [],
   "source": [
    "authors_version = {'0.1': 6,\n",
    "                   '0.2': 14,\n",
    "                   '0.3': 15,\n",
    "                   '0.4': 17,\n",
    "                   '0.5': 21,\n",
    "                   '0.6': 29,\n",
    "                   '0.7': 27,\n",
    "                   '0.8': 27}"
   ]
  }
 ],
 "metadata": {
  "celltoolbar": "Slideshow",
  "kernelspec": {
   "display_name": "Python 3",
   "language": "python",
   "name": "python3"
  },
  "language_info": {
   "codemirror_mode": {
    "name": "ipython",
    "version": 3
   },
   "file_extension": ".py",
   "mimetype": "text/x-python",
   "name": "python",
   "nbconvert_exporter": "python",
   "pygments_lexer": "ipython3",
   "version": "3.6.1"
  }
 },
 "nbformat": 4,
 "nbformat_minor": 1
}
