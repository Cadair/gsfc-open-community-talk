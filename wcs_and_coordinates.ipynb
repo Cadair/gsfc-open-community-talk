{
 "cells": [
  {
   "cell_type": "code",
   "execution_count": null,
   "metadata": {
    "collapsed": true,
    "slideshow": {
     "slide_type": "skip"
    }
   },
   "outputs": [],
   "source": [
    "%%file ./.jupyter/custom/custom.css\n",
    ".left {\n",
    "    width: 49%;\n",
    "    float: left;\n",
    "}\n",
    "\n",
    ".right {\n",
    "    width: 49%;\n",
    "    float: right;\n",
    "}\n",
    "\n",
    "h1 {\n",
    "    text-align: center;\n",
    "}\n",
    "\n",
    "h2 {\n",
    "    text-align: center;\n",
    "}"
   ]
  },
  {
   "cell_type": "markdown",
   "metadata": {
    "slideshow": {
     "slide_type": "slide"
    }
   },
   "source": [
    "# Coordinates in SunPy\n",
    "\n",
    "## Stuart Mumford\n",
    "\n",
    "\n",
    "<a href=\"http://shef.ac.uk\">\n",
    "<img style='float: left; width: 30%; margin-top: 90px; height: 25%;' src='images/TUOS_Logo_CMYK_Keyline.svg'/>\n",
    "</a>\n",
    "<a href=\"https://aperiosoftware.com\">\n",
    "<img style='float: right; width: 30%; margin-top: 90px; height: 25%;' src='images/aperio_logo.svg'/>\n",
    "</a>\n",
    "<a href=\"http://sunpy.org\">\n",
    "<img style='float: right; width: 30%; margin-top: 90px; height: 25%; margin-right: 5%;' src='images/sunpy_logo.svg'/></a>"
   ]
  },
  {
   "cell_type": "markdown",
   "metadata": {
    "slideshow": {
     "slide_type": "slide"
    }
   },
   "source": [
    "# In Development\n",
    "\n",
    "The first version of SunPy Coordinates was released in 0.7.\n",
    "\n",
    "This presentation contains \"phase 2\" which should be included in SunPy 0.8. \n",
    "\n",
    "See PR [#1975](https://github.com/sunpy/sunpy/pull/1975)"
   ]
  },
  {
   "cell_type": "markdown",
   "metadata": {
    "slideshow": {
     "slide_type": "slide"
    }
   },
   "source": [
    "# Types of Coordinates\n",
    "\n",
    "### Pixel Coordinates\n",
    "\n",
    "* The indexes of your array\n",
    "* WCS - World Coordinate System\n",
    "    * Converts pixel coordinates to physical coordinates.\n",
    "    * A common convention is FITS-WCS."
   ]
  },
  {
   "cell_type": "markdown",
   "metadata": {
    "collapsed": true,
    "slideshow": {
     "slide_type": "subslide"
    }
   },
   "source": [
    "### Physical Coordinates\n",
    "\n",
    "* Represents a point in physical space.\n",
    "* Has some *\"Reference System\"*\n",
    "    * An Origin\n",
    "    * Some reference points to align the frame with respect to other things.\n",
    "* Can be \"projected\" when spherical meaning $r\\rightarrow \\infty$."
   ]
  },
  {
   "cell_type": "markdown",
   "metadata": {
    "slideshow": {
     "slide_type": "slide"
    }
   },
   "source": [
    "# Physical Coordinate Frames\n",
    "\n",
    "Defined in Thompson (2006):\n",
    "\n",
    "* Helioprojective (Cartesian)\n",
    "* Helioprojective (Radial) *\n",
    "* Heliocentric\n",
    "* Heliographic (Stonyhurst)\n",
    "* Heliographic (Carrington)\n",
    "\n",
    "<p style=\"font-size: small\">\n",
    "* Not in SunPy\n",
    "<br/>\n",
    "<br/>\n",
    "1. Thompson, W. T. Coordinate systems for solar image data. Astronomy and Astrophysics 449, 791–803 (2006).\n",
    "</p>"
   ]
  },
  {
   "cell_type": "markdown",
   "metadata": {
    "slideshow": {
     "slide_type": "slide"
    }
   },
   "source": [
    "### Helioprojective Cartesian is not Cartesian\n",
    "<div style=\"float:left; width:39%\">\n",
    "<p style=\"padding-top: 2em\">\n",
    "It's spherical.\n",
    "</p>\n",
    "</div>\n",
    "<div style=\"float:left; width:59%\">\n",
    "<img src=\"images/coord_inset.png\" width=100% />\n",
    "</div>"
   ]
  },
  {
   "cell_type": "markdown",
   "metadata": {
    "slideshow": {
     "slide_type": "slide"
    }
   },
   "source": [
    "# Transformations\n",
    "\n",
    "<img width=200% src=\"images/sunpy_coordinates.svg\"/>"
   ]
  },
  {
   "cell_type": "markdown",
   "metadata": {
    "slideshow": {
     "slide_type": "slide"
    }
   },
   "source": [
    "# Physical Coordinates in SunPy"
   ]
  },
  {
   "cell_type": "code",
   "execution_count": 2,
   "metadata": {
    "collapsed": true,
    "slideshow": {
     "slide_type": "-"
    }
   },
   "outputs": [],
   "source": [
    "import astropy.units as u\n",
    "\n",
    "from astropy.coordinates import SkyCoord\n",
    "import sunpy.coordinates"
   ]
  },
  {
   "cell_type": "code",
   "execution_count": 3,
   "metadata": {
    "slideshow": {
     "slide_type": "-"
    }
   },
   "outputs": [
    {
     "data": {
      "text/plain": [
       "<SkyCoord (Helioprojective: dateobs=None, rsun=695508.0 km, observer=<HeliographicStonyhurst Coordinate (dateobs=None): (lon, lat, radius) in (deg, deg, AU)\n",
       "    ( 0.,  0.,  1.)>): (Tx, Ty) in arcsec\n",
       "    ( 100.,  360.)>"
      ]
     },
     "execution_count": 3,
     "metadata": {},
     "output_type": "execute_result"
    }
   ],
   "source": [
    "sc = SkyCoord(100*u.arcsec, 0.1*u.deg, frame='helioprojective')\n",
    "sc"
   ]
  },
  {
   "cell_type": "code",
   "execution_count": 4,
   "metadata": {},
   "outputs": [
    {
     "data": {
      "text/plain": [
       "<HeliographicStonyhurst Coordinate (dateobs=None): (lon, lat, radius) in (deg, deg, AU)\n",
       "    ( 0.,  0.,  1.)>"
      ]
     },
     "execution_count": 4,
     "metadata": {},
     "output_type": "execute_result"
    }
   ],
   "source": [
    "sc.observer"
   ]
  },
  {
   "cell_type": "markdown",
   "metadata": {
    "slideshow": {
     "slide_type": "slide"
    }
   },
   "source": [
    "# Transformations\n",
    "\n",
    "## Helioprojective to Heliographic"
   ]
  },
  {
   "cell_type": "code",
   "execution_count": 5,
   "metadata": {},
   "outputs": [
    {
     "data": {
      "text/plain": [
       "<SkyCoord (Helioprojective: dateobs=None, rsun=695508.0 km, observer=<HeliographicStonyhurst Coordinate (dateobs=None): (lon, lat, radius) in (deg, deg, AU)\n",
       "    ( 0.,  0.,  1.)>): (Tx, Ty) in arcsec\n",
       "    ( 100.,  360.)>"
      ]
     },
     "execution_count": 5,
     "metadata": {},
     "output_type": "execute_result"
    }
   ],
   "source": [
    "sc = SkyCoord(100*u.arcsec, 0.1*u.deg, frame='helioprojective')\n",
    "sc"
   ]
  },
  {
   "cell_type": "code",
   "execution_count": 6,
   "metadata": {},
   "outputs": [
    {
     "data": {
      "text/plain": [
       "<SkyCoord (HeliographicStonyhurst: dateobs=None): (lon, lat, radius) in (deg, deg, km)\n",
       "    ( 6.42759277,  21.94999839,  695507.99999766)>"
      ]
     },
     "execution_count": 6,
     "metadata": {},
     "output_type": "execute_result"
    }
   ],
   "source": [
    "sc.transform_to(\"heliographic_stonyhurst\")"
   ]
  },
  {
   "cell_type": "markdown",
   "metadata": {
    "slideshow": {
     "slide_type": "subslide"
    }
   },
   "source": [
    "## Off-Disk"
   ]
  },
  {
   "cell_type": "code",
   "execution_count": 7,
   "metadata": {
    "slideshow": {
     "slide_type": "-"
    }
   },
   "outputs": [
    {
     "data": {
      "text/plain": [
       "<SkyCoord (Helioprojective: dateobs=None, rsun=695508.0 km, observer=<HeliographicStonyhurst Coordinate (dateobs=None): (lon, lat, radius) in (deg, deg, AU)\n",
       "    ( 0.,  0.,  1.)>): (Tx, Ty) in arcsec\n",
       "    ( 100.,  1500.)>"
      ]
     },
     "execution_count": 7,
     "metadata": {},
     "output_type": "execute_result"
    }
   ],
   "source": [
    "sc = SkyCoord(100*u.arcsec, 1500*u.arcsec, frame='helioprojective')\n",
    "sc"
   ]
  },
  {
   "cell_type": "code",
   "execution_count": 8,
   "metadata": {},
   "outputs": [
    {
     "name": "stderr",
     "output_type": "stream",
     "text": [
      "/opt/miniconda/envs/RISE/lib/python3.5/site-packages/sunpy/coordinates/frames.py:353: RuntimeWarning: invalid value encountered in sqrt\n",
      "  d = ((-1*b) - np.sqrt(b**2 - 4*c)) / 2\n"
     ]
    },
    {
     "data": {
      "text/plain": [
       "<SkyCoord (HeliographicStonyhurst: dateobs=None): (lon, lat, radius) in (deg, deg, km)\n",
       "    ( nan,  nan,  nan)>"
      ]
     },
     "execution_count": 8,
     "metadata": {},
     "output_type": "execute_result"
    }
   ],
   "source": [
    "sc.transform_to(\"heliographic_stonyhurst\")"
   ]
  },
  {
   "cell_type": "markdown",
   "metadata": {
    "slideshow": {
     "slide_type": "subslide"
    }
   },
   "source": [
    "## Calculating Distance"
   ]
  },
  {
   "cell_type": "code",
   "execution_count": null,
   "metadata": {
    "collapsed": true,
    "slideshow": {
     "slide_type": "-"
    }
   },
   "outputs": [],
   "source": [
    "sc = SkyCoord(100*u.arcsec, 900*u.arcsec, frame='helioprojective')\n",
    "sc"
   ]
  },
  {
   "cell_type": "code",
   "execution_count": null,
   "metadata": {
    "collapsed": true,
    "slideshow": {
     "slide_type": "-"
    }
   },
   "outputs": [],
   "source": [
    "sc.frame.calculate_distance()"
   ]
  },
  {
   "cell_type": "markdown",
   "metadata": {
    "slideshow": {
     "slide_type": "slide"
    }
   },
   "source": [
    "# World Coordinate System in SunPy\n",
    "\n",
    "WCS is built into SunPy Map:"
   ]
  },
  {
   "cell_type": "code",
   "execution_count": null,
   "metadata": {
    "collapsed": true
   },
   "outputs": [],
   "source": [
    "import sunpy.map\n",
    "from sunpy.data.sample import AIA_171_ROLL_IMAGE"
   ]
  },
  {
   "cell_type": "code",
   "execution_count": null,
   "metadata": {
    "collapsed": true
   },
   "outputs": [],
   "source": [
    "aia = sunpy.map.Map(AIA_171_ROLL_IMAGE)"
   ]
  },
  {
   "cell_type": "code",
   "execution_count": null,
   "metadata": {
    "collapsed": true
   },
   "outputs": [],
   "source": [
    "sc = aia.pixel_to_data(100*u.pixel, 100*u.pixel)\n",
    "sc"
   ]
  },
  {
   "cell_type": "code",
   "execution_count": null,
   "metadata": {
    "collapsed": true,
    "slideshow": {
     "slide_type": "subslide"
    }
   },
   "outputs": [],
   "source": [
    "aia.data_to_pixel(sc)"
   ]
  },
  {
   "cell_type": "markdown",
   "metadata": {
    "slideshow": {
     "slide_type": "slide"
    }
   },
   "source": [
    "# Plotting Coordinates\n",
    "\n",
    "This is where it get's fun."
   ]
  },
  {
   "cell_type": "code",
   "execution_count": null,
   "metadata": {
    "collapsed": true,
    "slideshow": {
     "slide_type": "-"
    }
   },
   "outputs": [],
   "source": [
    "%matplotlib notebook\n",
    "import matplotlib.pyplot as plt"
   ]
  },
  {
   "cell_type": "code",
   "execution_count": null,
   "metadata": {
    "collapsed": true
   },
   "outputs": [],
   "source": [
    "aia.peek()"
   ]
  },
  {
   "cell_type": "markdown",
   "metadata": {
    "slideshow": {
     "slide_type": "slide"
    }
   },
   "source": [
    "# Overlays"
   ]
  },
  {
   "cell_type": "code",
   "execution_count": null,
   "metadata": {
    "collapsed": true
   },
   "outputs": [],
   "source": [
    "aia.peek(draw_grid=True)"
   ]
  },
  {
   "cell_type": "markdown",
   "metadata": {
    "slideshow": {
     "slide_type": "subslide"
    }
   },
   "source": [
    "## More Overlays"
   ]
  },
  {
   "cell_type": "code",
   "execution_count": null,
   "metadata": {
    "collapsed": true
   },
   "outputs": [],
   "source": [
    "aia, euvi = sunpy.map.Map('/home/stuart/sunpy/data/aia_lev1_304a_2011_01_01t00_00_08_12z_image_lev1.22.fits',\n",
    "                          '/home/stuart/sunpy/data/20110101_000615_n4eub.22.fts')"
   ]
  },
  {
   "cell_type": "code",
   "execution_count": null,
   "metadata": {
    "collapsed": true,
    "slideshow": {
     "slide_type": "-"
    }
   },
   "outputs": [],
   "source": [
    "fig = plt.figure()\n",
    "ax = plt.subplot(projection=euvi)\n",
    "euvi.plot()\n",
    "\n",
    "overlay = ax.get_coords_overlay(aia.coordinate_frame)\n",
    "overlay.grid()\n"
   ]
  },
  {
   "cell_type": "code",
   "execution_count": null,
   "metadata": {
    "collapsed": true,
    "slideshow": {
     "slide_type": "skip"
    }
   },
   "outputs": [],
   "source": [
    "fig = plt.figure()\n",
    "ax = plt.subplot(projection=aia)\n",
    "aia.plot()\n",
    "\n",
    "overlay = ax.get_coords_overlay(euvi.coordinate_frame)\n",
    "overlay.grid()"
   ]
  },
  {
   "cell_type": "markdown",
   "metadata": {
    "slideshow": {
     "slide_type": "slide"
    }
   },
   "source": [
    "# Heliographic Maps"
   ]
  },
  {
   "cell_type": "code",
   "execution_count": null,
   "metadata": {
    "collapsed": true
   },
   "outputs": [],
   "source": [
    "import numpy as np"
   ]
  },
  {
   "cell_type": "code",
   "execution_count": null,
   "metadata": {
    "collapsed": true
   },
   "outputs": [],
   "source": [
    "syn_map = sunpy.map.Map(\"/home/stuart/SyncBox/Programming/SunPy/hmi.Mldailysynframe_720s_nrt.fits\")\n",
    "\n",
    "# Make it standard compliant:\n",
    "syn_map.meta['CUNIT2'] = 'degree'\n",
    "syn_map.meta['CDELT2'] = 180/np.pi * syn_map.meta['CDELT2']\n",
    "\n",
    "# Set the colorbar properties;\n",
    "syn_map.plot_settings['cmap'] = 'hmimag'\n",
    "syn_map.plot_settings['norm'] = plt.Normalize(-1500, 1500)\n",
    "\n",
    "print(syn_map.coordinate_system)"
   ]
  },
  {
   "cell_type": "code",
   "execution_count": null,
   "metadata": {
    "collapsed": true,
    "slideshow": {
     "slide_type": "subslide"
    }
   },
   "outputs": [],
   "source": [
    "fig = plt.figure(figsize=(8, 3))\n",
    "syn_map.plot()\n",
    "plt.colorbar()\n",
    "\n",
    "l = plt.ylim((1, syn_map.data.shape[0]-1))"
   ]
  },
  {
   "cell_type": "markdown",
   "metadata": {
    "slideshow": {
     "slide_type": "slide"
    }
   },
   "source": [
    "# Thanks!"
   ]
  }
 ],
 "metadata": {
  "celltoolbar": "Slideshow",
  "kernelspec": {
   "display_name": "Python 3",
   "language": "python",
   "name": "python3"
  },
  "language_info": {
   "codemirror_mode": {
    "name": "ipython",
    "version": 3
   },
   "file_extension": ".py",
   "mimetype": "text/x-python",
   "name": "python",
   "nbconvert_exporter": "python",
   "pygments_lexer": "ipython3",
   "version": "3.5.3"
  },
  "livereveal": {
   "start_slideshow_at": "selected",
   "theme": "league",
   "width": "1000"
  }
 },
 "nbformat": 4,
 "nbformat_minor": 2
}
