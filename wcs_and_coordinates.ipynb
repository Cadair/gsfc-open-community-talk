{
 "cells": [
  {
   "cell_type": "code",
   "execution_count": null,
   "metadata": {
    "slideshow": {
     "slide_type": "skip"
    }
   },
   "outputs": [],
   "source": [
    "%%file ./.jupyter/custom/custom.css\n",
    ".left {\n",
    "    width: 49%;\n",
    "    float: left;\n",
    "}\n",
    "\n",
    ".right {\n",
    "    width: 49%;\n",
    "    float: right;\n",
    "}\n",
    "\n",
    "h1 {\n",
    "    text-align: center;\n",
    "}\n",
    "\n",
    "h2 {\n",
    "    text-align: center;\n",
    "}"
   ]
  },
  {
   "cell_type": "markdown",
   "metadata": {
    "slideshow": {
     "slide_type": "slide"
    }
   },
   "source": [
    "# Coordinates in SunPy\n",
    "\n",
    "## Stuart Mumford\n",
    "\n",
    "\n",
    "<a href=\"http://shef.ac.uk\">\n",
    "<img style='float: left; width: 30%; margin-top: 90px; height: 25%;' src='images/TUOS_Logo_CMYK_Keyline.svg'/>\n",
    "</a>\n",
    "<a href=\"https://aperiosoftware.com\">\n",
    "<img style='float: right; width: 30%; margin-top: 90px; height: 25%;' src='images/aperio_logo.svg'/>\n",
    "</a>\n",
    "<a href=\"http://sunpy.org\">\n",
    "<img style='float: right; width: 30%; margin-top: 90px; height: 25%; margin-right: 5%;' src='images/sunpy_logo.svg'/></a>"
   ]
  },
  {
   "cell_type": "markdown",
   "metadata": {
    "collapsed": true,
    "slideshow": {
     "slide_type": "slide"
    }
   },
   "source": [
    "# Types of Coordinates\n",
    "\n",
    "<div class='left'>\n",
    "<h3> Pixel (data) Coordinates </h3>\n",
    "<ul>\n",
    "<li> The indexes of your array </li>\n",
    "<li> WCS - World Coordinate System\n",
    "<ul>\n",
    "<li> Converts pixel coordinates to physical coordinates. </li>\n",
    "<li> A common version is FITS-WCS </li>\n",
    "</ul>\n",
    "</ul>\n",
    "\n",
    "</div>\n",
    "\n",
    "<div class='right'>\n",
    "<h3> Physical Coordinates </h3>\n",
    "<ul>\n",
    "<li> Represents a point in physical space. </li>\n",
    "<li> Has some <i>\"Reference System\"</i>\n",
    "    <ul>\n",
    "    <li> An Origin </li>\n",
    "    <li> Some reference points to align the frame with respect to other things. </li>\n",
    "    </ul>\n",
    "</li>\n",
    "<li> Can be \"projected\" when spherical meaning $r\\rightarrow \\infty$.</li>\n",
    "</ul>\n",
    "\n",
    "</div>"
   ]
  },
  {
   "cell_type": "markdown",
   "metadata": {
    "slideshow": {
     "slide_type": "slide"
    }
   },
   "source": [
    "# Physical Coordinate Frames\n",
    "\n",
    "Defined in Thompson (2006):\n",
    "\n",
    "* Helioprojective (Cartesian)\n",
    "* Helioprojective (Radial) *\n",
    "* Heliocentric\n",
    "* Heliographic (Stonyhurst)\n",
    "* Heliographic (Carrington)\n",
    "\n",
    "<p style=\"font-size: small\">\n",
    "* Not in SunPy\n",
    "<br/>\n",
    "<br/>\n",
    "1. Thompson, W. T. Coordinate systems for solar image data. Astronomy and Astrophysics 449, 791–803 (2006).\n",
    "</p>"
   ]
  },
  {
   "cell_type": "markdown",
   "metadata": {
    "slideshow": {
     "slide_type": "slide"
    }
   },
   "source": [
    "### Helioprojective Cartesian is not Cartesian\n",
    "<div style=\"float:left; width:39%\">\n",
    "<p style=\"padding-top: 2em\">\n",
    "It's spherical.\n",
    "</p>\n",
    "</div>\n",
    "<div style=\"float:left; width:59%\">\n",
    "<img src=\"images/coord_inset.png\" width=100% />\n",
    "</div>"
   ]
  },
  {
   "cell_type": "markdown",
   "metadata": {
    "slideshow": {
     "slide_type": "slide"
    }
   },
   "source": [
    "# Transformations\n",
    "\n",
    "<img width=200% src=\"images/sunpy_coordinates.svg\"/>"
   ]
  },
  {
   "cell_type": "markdown",
   "metadata": {
    "slideshow": {
     "slide_type": "slide"
    }
   },
   "source": [
    "# Physical Coordinates in SunPy"
   ]
  },
  {
   "cell_type": "code",
   "execution_count": 2,
   "metadata": {
    "collapsed": true,
    "slideshow": {
     "slide_type": "-"
    }
   },
   "outputs": [],
   "source": [
    "import astropy.units as u\n",
    "\n",
    "from astropy.coordinates import SkyCoord\n",
    "import sunpy.coordinates"
   ]
  },
  {
   "cell_type": "code",
   "execution_count": 3,
   "metadata": {
    "slideshow": {
     "slide_type": "-"
    }
   },
   "outputs": [
    {
     "data": {
      "text/plain": [
       "<SkyCoord (Helioprojective: dateobs=None, rsun=695508.0 km, observer=<HeliographicStonyhurst Coordinate (dateobs=None): (lon, lat, radius) in (deg, deg, AU)\n",
       "    ( 0.,  0.,  1.)>): (Tx, Ty) in arcsec\n",
       "    ( 100.,  360.)>"
      ]
     },
     "execution_count": 3,
     "metadata": {},
     "output_type": "execute_result"
    }
   ],
   "source": [
    "sc = SkyCoord(100*u.arcsec, 0.1*u.deg, frame='helioprojective')\n",
    "sc"
   ]
  },
  {
   "cell_type": "code",
   "execution_count": 5,
   "metadata": {},
   "outputs": [
    {
     "data": {
      "text/plain": [
       "<HeliographicStonyhurst Coordinate (dateobs=None): (lon, lat, radius) in (deg, deg, AU)\n",
       "    ( 0.,  0.,  1.)>"
      ]
     },
     "execution_count": 5,
     "metadata": {},
     "output_type": "execute_result"
    }
   ],
   "source": [
    "sc.observer"
   ]
  },
  {
   "cell_type": "code",
   "execution_count": null,
   "metadata": {
    "collapsed": true,
    "slideshow": {
     "slide_type": "slide"
    }
   },
   "outputs": [],
   "source": []
  }
 ],
 "metadata": {
  "celltoolbar": "Slideshow",
  "kernelspec": {
   "display_name": "Python 3",
   "language": "python",
   "name": "python3"
  },
  "language_info": {
   "codemirror_mode": {
    "name": "ipython",
    "version": 3
   },
   "file_extension": ".py",
   "mimetype": "text/x-python",
   "name": "python",
   "nbconvert_exporter": "python",
   "pygments_lexer": "ipython3",
   "version": "3.5.3"
  }
 },
 "nbformat": 4,
 "nbformat_minor": 2
}
